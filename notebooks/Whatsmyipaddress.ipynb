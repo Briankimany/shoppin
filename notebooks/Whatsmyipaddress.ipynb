{
 "cells": [
  {
   "cell_type": "code",
   "execution_count": 24,
   "id": "9b98256e-7569-4d94-9ee4-5075f56fac5c",
   "metadata": {},
   "outputs": [],
   "source": [
    "from curl_cffi import requests\n",
    "from bs4 import BeautifulSoup as Soup\n",
    "\n",
    "def get_ip_data(ip_addr):\n",
    "    \"\"\"\n",
    "    Using whatsmyipaddress \n",
    "    \"\"\"\n",
    "    url = f\"https://whatismyipaddress.com/ip/{ip_addr}\"\n",
    "\n",
    "    response = requests.get(url ,impersonate=\"chrome\")\n",
    "    data = Soup(response.text, 'html.parser')\n",
    "\n",
    "    # Step 2: Use a CSS selector to find the specific div\n",
    "    target_div = data.select_one(\n",
    "        \"#fl-post-1165 > div > div > div.fl-row.fl-row-fixed-width.fl-row-bg-none.fl-node-5d9c0c38837c0 > div > div.fl-row-content.fl-row-fixed-width.fl-node-content > div > div.fl-col.fl-node-5d9c0c3888731 > div > div.fl-module.fl-module-wipa-static-html.fl-node-5d9e84c8187fe > div > div > div > div.inner > div.left\"\n",
    "    )\n",
    "\n",
    "    # Step 3: Print or process the result\n",
    "    if target_div:\n",
    "        geo_data = {}\n",
    "        for p in target_div.select('p.information'):\n",
    "            try:\n",
    "                spans = p.find_all('span')\n",
    "                if len(spans) == 2:\n",
    "                    key = spans[0].text.strip().rstrip(':')\n",
    "                    value = spans[1].text.strip()\n",
    "                    geo_data[key] = value\n",
    "            except Exception as e:\n",
    "                pass\n",
    "        data = {\n",
    "        \"country\": geo_data.get(\"Country\"),\n",
    "        \"region\": geo_data.get(\"State/Region\"),\n",
    "        \"city\": geo_data.get(\"City\"),\n",
    "        \"isp\": geo_data.get(\"ISP\")}\n",
    "        \n",
    "        return {k:v for k,v in data.items() if v}\n",
    "\n",
    "    else:\n",
    "        print(\"Target div not found.\")\n"
   ]
  },
  {
   "cell_type": "code",
   "execution_count": 25,
   "id": "cbe9ae80-0fac-4c43-ac5b-947754070d91",
   "metadata": {},
   "outputs": [
    {
     "data": {
      "text/plain": [
       "{'region': 'Uasin Gishu County',\n",
       " 'city': 'Changach',\n",
       " 'isp': 'Safaricom Limited'}"
      ]
     },
     "execution_count": 25,
     "metadata": {},
     "output_type": "execute_result"
    }
   ],
   "source": [
    "get_ip_data('197.248.42.147')"
   ]
  },
  {
   "cell_type": "code",
   "execution_count": null,
   "id": "a0cf0cd1-706d-481c-b70d-59209211571e",
   "metadata": {},
   "outputs": [],
   "source": []
  },
  {
   "cell_type": "code",
   "execution_count": null,
   "id": "f46fbec0-d529-4892-8ed3-7d7b5060a379",
   "metadata": {},
   "outputs": [],
   "source": []
  },
  {
   "cell_type": "code",
   "execution_count": null,
   "id": "4f584283-5c6b-49ef-9bf0-64a830cdcb52",
   "metadata": {},
   "outputs": [],
   "source": []
  },
  {
   "cell_type": "code",
   "execution_count": null,
   "id": "3a3b69f5-cf7d-4b24-b2c7-07d6e4cc743f",
   "metadata": {},
   "outputs": [],
   "source": []
  },
  {
   "cell_type": "code",
   "execution_count": null,
   "id": "f7018446-7158-4d08-a396-49fd4a6537f8",
   "metadata": {},
   "outputs": [],
   "source": []
  },
  {
   "cell_type": "code",
   "execution_count": null,
   "id": "33dd8fd6-9379-4e4b-b8d5-2c09740e7ff2",
   "metadata": {},
   "outputs": [],
   "source": []
  },
  {
   "cell_type": "code",
   "execution_count": null,
   "id": "70b4ba5e-c7d9-4f34-be67-74a160c50b21",
   "metadata": {},
   "outputs": [],
   "source": []
  },
  {
   "cell_type": "code",
   "execution_count": null,
   "id": "7ed3fb0f-b467-4392-acf4-cc96215e653e",
   "metadata": {},
   "outputs": [],
   "source": []
  },
  {
   "cell_type": "code",
   "execution_count": null,
   "id": "fc1c6f5a-c144-4987-bff8-163b3ccb1ad5",
   "metadata": {},
   "outputs": [],
   "source": []
  },
  {
   "cell_type": "code",
   "execution_count": null,
   "id": "468f7f9b-ba53-4082-9f5c-79c458693836",
   "metadata": {},
   "outputs": [],
   "source": []
  }
 ],
 "metadata": {
  "kernelspec": {
   "display_name": "Python 3 (ipykernel)",
   "language": "python",
   "name": "python3"
  },
  "language_info": {
   "codemirror_mode": {
    "name": "ipython",
    "version": 3
   },
   "file_extension": ".py",
   "mimetype": "text/x-python",
   "name": "python",
   "nbconvert_exporter": "python",
   "pygments_lexer": "ipython3",
   "version": "3.12.3"
  }
 },
 "nbformat": 4,
 "nbformat_minor": 5
}
