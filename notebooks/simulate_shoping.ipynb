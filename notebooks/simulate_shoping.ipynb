{
 "cells": [
  {
   "cell_type": "code",
   "execution_count": null,
   "id": "fd915db5-dba7-494c-8278-26d16c9f9738",
   "metadata": {},
   "outputs": [],
   "source": [
    "tkn = False"
   ]
  },
  {
   "cell_type": "code",
   "execution_count": 17,
   "id": "6b9537f7-1b2d-4152-8c73-28a6cb01e6d1",
   "metadata": {},
   "outputs": [],
   "source": [
    "import sys\n",
    "import os\n",
    "from pathlib import Path\n",
    "from pprint import pprint\n",
    "\n",
    "# current_dir = Path(os.getcwd())\n",
    "current_dir = Path(os.path.expanduser(\"~/Documents/VENDOR-PROJECT/notebooks\"))\n",
    "\n",
    "if not current_dir.exists():\n",
    "    raise ValueError(\"invalid path\")\n",
    "parent_dir = current_dir.parent\n",
    "\n",
    "sys.path.append(str(parent_dir))\n",
    "os.chdir(parent_dir)\n",
    "\n",
    "from app.data_manager.session_manager import SessionManager\n",
    "from app.data_manager.cart_manager import OrderManager\n",
    "from app.routes.vendor import db_session\n",
    "from app.models.product import Product as ProductModel\n",
    "from app.order_creators import main\n",
    "\n",
    "session_manager = SessionManager(db_session)\n",
    "simulate_orders = main(False)\n"
   ]
  },
  {
   "cell_type": "code",
   "execution_count": 20,
   "id": "2e0cc04e-a8fe-4478-b510-42cbbfe05b78",
   "metadata": {},
   "outputs": [
    {
     "data": {
      "text/plain": [
       "{3: {'rev': Decimal('1639.88'),\n",
       "  'sold_products': {37: 2, 41: 2, 36: 2, 33: 2, 42: 2, 27: 2}},\n",
       " 1: {'rev': Decimal('1719.88'), 'sold_products': {12: 4, 2: 4, 1: 2, 7: 2}},\n",
       " 2: {'rev': Decimal('1759.94'), 'sold_products': {24: 2, 18: 2, 20: 2}},\n",
       " 4: {'rev': Decimal('759.94'), 'sold_products': {48: 2, 46: 2, 60: 2}}}"
      ]
     },
     "execution_count": 20,
     "metadata": {},
     "output_type": "execute_result"
    }
   ],
   "source": [
    "simulate_orders.all_vendors"
   ]
  },
  {
   "cell_type": "code",
   "execution_count": null,
   "id": "fdc16d0e-d51f-49d4-9006-174670ceaff9",
   "metadata": {},
   "outputs": [],
   "source": [
    "vendor_revenuef"
   ]
  },
  {
   "cell_type": "code",
   "execution_count": null,
   "id": "2937f448-d392-46f6-a8be-152a32a06d6b",
   "metadata": {},
   "outputs": [],
   "source": []
  }
 ],
 "metadata": {
  "kernelspec": {
   "display_name": "Python 3 (ipykernel)",
   "language": "python",
   "name": "python3"
  },
  "language_info": {
   "codemirror_mode": {
    "name": "ipython",
    "version": 3
   },
   "file_extension": ".py",
   "mimetype": "text/x-python",
   "name": "python",
   "nbconvert_exporter": "python",
   "pygments_lexer": "ipython3",
   "version": "3.12.3"
  }
 },
 "nbformat": 4,
 "nbformat_minor": 5
}
