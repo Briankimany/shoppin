{
 "cells": [
  {
   "cell_type": "code",
   "execution_count": 1,
   "id": "8e97159e-2344-420b-a47e-01988eccbf1e",
   "metadata": {},
   "outputs": [],
   "source": [
    "import sys\n",
    "import os\n",
    "from pathlib import Path\n",
    "from dotenv import load_dotenv\n",
    "\n",
    "load_dotenv()\n",
    "current_dir = Path(os.getcwd())\n",
    "parent_dir = current_dir.parent\n",
    "\n",
    "sys.path.append(str(parent_dir))\n",
    "os.chdir(parent_dir)\n",
    "from app.routes.vendor import db_session\n",
    "from app.order_creators import main\n",
    "\n"
   ]
  },
  {
   "cell_type": "code",
   "execution_count": 2,
   "id": "3625706d-edf6-45a0-9aa6-27ee9b42aed6",
   "metadata": {},
   "outputs": [
    {
     "data": {
      "text/plain": [
       "'pending'"
      ]
     },
     "execution_count": 2,
     "metadata": {},
     "output_type": "execute_result"
    }
   ],
   "source": [
    "os.getenv(\"SIMULATED_ORDER_STATUS\")"
   ]
  },
  {
   "cell_type": "code",
   "execution_count": null,
   "id": "907739dc-597c-43b2-b40f-684da05efb5f",
   "metadata": {},
   "outputs": [],
   "source": [
    "simulated_orders = main(True)\n",
    "simulated_orders.all_vendors"
   ]
  },
  {
   "cell_type": "code",
   "execution_count": null,
   "id": "7bbbda0c-1729-4682-9fee-f28bb4daca5a",
   "metadata": {},
   "outputs": [],
   "source": []
  },
  {
   "cell_type": "code",
   "execution_count": null,
   "id": "22034c48-c332-49d4-854b-45193c62329a",
   "metadata": {},
   "outputs": [],
   "source": []
  },
  {
   "cell_type": "code",
   "execution_count": null,
   "id": "bb574e07-55ec-4e38-ba19-33c61cbf24f0",
   "metadata": {},
   "outputs": [],
   "source": []
  },
  {
   "cell_type": "code",
   "execution_count": null,
   "id": "36f85dbc-6380-4048-9caa-ab08e082f026",
   "metadata": {},
   "outputs": [],
   "source": []
  },
  {
   "cell_type": "code",
   "execution_count": null,
   "id": "0faab9db-3f0e-4015-b8ac-a3c0b0c89e5a",
   "metadata": {},
   "outputs": [],
   "source": []
  },
  {
   "cell_type": "code",
   "execution_count": null,
   "id": "ef6e1d56-cc19-478b-823b-07c2f0ec6538",
   "metadata": {},
   "outputs": [],
   "source": []
  },
  {
   "cell_type": "code",
   "execution_count": null,
   "id": "801a388e-d330-4cde-8b82-3e82a78a43f5",
   "metadata": {},
   "outputs": [],
   "source": []
  },
  {
   "cell_type": "code",
   "execution_count": null,
   "id": "40e7cc88-245f-4c1a-b1a1-ac939d4ae8a0",
   "metadata": {},
   "outputs": [],
   "source": []
  },
  {
   "cell_type": "code",
   "execution_count": null,
   "id": "6e2af66e-75e0-411e-a033-e29de26014a7",
   "metadata": {},
   "outputs": [],
   "source": []
  },
  {
   "cell_type": "code",
   "execution_count": null,
   "id": "6ed5e49d-6693-4d26-8477-e4b9ae7b706e",
   "metadata": {},
   "outputs": [],
   "source": []
  },
  {
   "cell_type": "code",
   "execution_count": null,
   "id": "650e699b-4123-4e99-b905-9e7f92124eaa",
   "metadata": {},
   "outputs": [],
   "source": []
  },
  {
   "cell_type": "code",
   "execution_count": null,
   "id": "7ecd6a39-1dfb-49f3-9972-66d55a80100d",
   "metadata": {},
   "outputs": [],
   "source": []
  },
  {
   "cell_type": "code",
   "execution_count": null,
   "id": "5eca8b10-aa0e-4eae-a1be-2bf5b47a7656",
   "metadata": {},
   "outputs": [],
   "source": []
  },
  {
   "cell_type": "code",
   "execution_count": null,
   "id": "a6ff55fa-b06e-48ac-86e8-6df66ce9a3eb",
   "metadata": {},
   "outputs": [],
   "source": []
  },
  {
   "cell_type": "code",
   "execution_count": null,
   "id": "8bf18902-78ab-41d1-8455-3179f327c237",
   "metadata": {},
   "outputs": [],
   "source": []
  },
  {
   "cell_type": "code",
   "execution_count": null,
   "id": "1b24cf9a-26ea-450e-8c6a-15169106dc02",
   "metadata": {},
   "outputs": [],
   "source": []
  },
  {
   "cell_type": "code",
   "execution_count": null,
   "id": "288c83b5-c1ac-47a2-8018-10e729a2326b",
   "metadata": {},
   "outputs": [],
   "source": []
  }
 ],
 "metadata": {
  "kernelspec": {
   "display_name": ".venv",
   "language": "python",
   "name": "python3"
  },
  "language_info": {
   "codemirror_mode": {
    "name": "ipython",
    "version": 3
   },
   "file_extension": ".py",
   "mimetype": "text/x-python",
   "name": "python",
   "nbconvert_exporter": "python",
   "pygments_lexer": "ipython3",
   "version": "3.12.3"
  }
 },
 "nbformat": 4,
 "nbformat_minor": 5
}
