{
 "cells": [
  {
   "cell_type": "code",
   "execution_count": 1,
   "id": "63bb721d",
   "metadata": {},
   "outputs": [
    {
     "name": "stdout",
     "output_type": "stream",
     "text": [
      "/home/ajay/Documents/VENDOR-PROJECT\n"
     ]
    }
   ],
   "source": [
    "from pathlib  import Path\n",
    "import sys \n",
    "import os \n",
    "\n",
    "current_dir =  Path().cwd()\n",
    "sys.path.append(str(current_dir.parent))\n",
    "os.chdir(current_dir.parent)\n",
    "\n",
    "from app.data_manager.product_manager import ProductQuery ,Product,Attribute ,AttributeValue \n",
    "from app.data_manager.scoped_session import engine\n",
    "\n",
    "os.chdir(current_dir)\n"
   ]
  },
  {
   "cell_type": "code",
   "execution_count": 2,
   "id": "38a6c44a",
   "metadata": {},
   "outputs": [
    {
     "data": {
      "text/plain": [
       "sqlite:////home/ajay/Documents/VENDOR-PROJECT/vendor_project.db"
      ]
     },
     "execution_count": 2,
     "metadata": {},
     "output_type": "execute_result"
    }
   ],
   "source": [
    "engine.url"
   ]
  },
  {
   "cell_type": "code",
   "execution_count": null,
   "id": "b7a55c66",
   "metadata": {},
   "outputs": [],
   "source": [
    "## seeding attributes and values\n",
    "\n",
    "attributes = [\n",
    "    Attribute(name='Color', data_type='string'),\n",
    "    Attribute(name='Size', data_type='string'),\n",
    "    Attribute(name='Capacity', data_type='number'),\n",
    "    Attribute(name='Material', data_type='string'),\n",
    "    Attribute(name='Edition', data_type='string'),\n",
    "    Attribute(name='Pages', data_type='number')\n",
    "]\n",
    "\n",
    "attr_dict = { i.name : i for i in attributes }\n",
    "\n",
    "attribute_values = [\n",
    "    AttributeValue(value='Black', attributes=[attributes[0]]),\n",
    "    AttributeValue(value='White', attributes=[attributes[0]]),\n",
    "    AttributeValue(value='M', attributes=[attributes[1]]),\n",
    "    AttributeValue(value='L', attributes=[attributes[1]]),\n",
    "    AttributeValue(value='64GB', attributes=[attributes[2]]),\n",
    "    AttributeValue(value='128GB', attributes=[attributes[2]]),\n",
    "    AttributeValue(value='Cotton', attributes=[attributes[3]]),\n",
    "    AttributeValue(value='Stainless Steel', attributes=[attributes[3]]),\n",
    "    AttributeValue(value='First Edition', attributes=[attributes[4]]),\n",
    "    AttributeValue(value='Second Edition', attributes=[attributes[4]]),\n",
    "    AttributeValue(value='300', unit='pages', attributes=[attributes[5]]),\n",
    "    AttributeValue(value='500', unit='pages', attributes=[attributes[5]])\n",
    "]\n",
    "attrb_v = {i.value : i for i in attribute_values}\n",
    "\n",
    "product_attribute_values_map = {\n",
    "    1: ['Black', '64GB'],                     # Wireless Bluetooth Earbuds\n",
    "    2: ['White', '128GB'],                    # Smart Watch Pro\n",
    "    3: ['Black', '128GB'],                    # Portable Charger\n",
    "    4: ['Black'],                             # Gaming console\n",
    "    5: ['First Edition', '300'],              # Python Programming Cookbook\n",
    "    6: ['Second Edition', '500'],             # Art of Computer Science\n",
    "    7: ['First Edition', '300'],              # Database Design Essentials\n",
    "    8: ['Cotton', 'White'],                   # Organic Cotton Bed Sheets\n",
    "    9: ['White', 'Stainless Steel'],          # Ceramic Dinnerware Set\n",
    "    10: ['Stainless Steel'],                  # Stainless Steel Cookware\n",
    "    11: ['Stainless Steel'],                  # StCookware\n",
    "    12: ['Stainless Steel'],                  # Pan\n",
    "    13: ['Black'],                            # Gaming Console 2\n",
    "    14: ['White', '128GB'],                   # Smartphone X2\n",
    "    15: ['Black', '128GB'],                   # Laptop Air 15\n",
    "    16: ['White'],                            # 4K LED Television\n",
    "    17: ['Black', '64GB'],                    # Wireless Headphones\n",
    "    18: ['White', '128GB'],                   # Bluetooth Speaker\n",
    "    19: ['Black', '128GB']                    # Digital Camera Pro\n",
    "}\n",
    "\n",
    "product_category_map = {\n",
    "    1: \"Electronics\",           # Wireless Bluetooth Earbuds\n",
    "    2: \"Electronics\",           # Smart Watch Pro\n",
    "    3: \"Electronics\",           # Portable Charger 10000mAh\n",
    "    4: \"Gaming\",                # Gaming console\n",
    "    5: \"Books\",                 # Python Programming Cookbook\n",
    "    6: \"Books\",                 # The Art of Computer Science\n",
    "    7: \"Books\",                 # Database Design Essentials\n",
    "    8: \"Home & Kitchen\",        # Organic Cotton Bed Sheets\n",
    "    9: \"Home & Kitchen\",        # Ceramic Dinnerware Set\n",
    "    10: \"Home & Kitchen\",       # Stainless Steel Cookware\n",
    "    11: \"Home & Kitchen\",       # StCookware\n",
    "    12: \"Home & Kitchen\",       # Pan\n",
    "    13: \"Gaming\",               # Gaming Console\n",
    "    14: \"Electronics\",          # Smartphone X2\n",
    "    15: \"Electronics\",          # Laptop Air 15\n",
    "    16: \"Electronics\",          # 4K LED Television\n",
    "    17: \"Electronics\",          # Wireless Headphones\n",
    "    18: \"Electronics\",          # Bluetooth Speaker\n",
    "    19: \"Electronics\"           # Digital Camera Pro\n",
    "}\n",
    "\n",
    "with ProductQuery()._get_session() as db_ses:\n",
    "    for attr in attributes:\n",
    "        if db_ses.query(Attribute).filter_by(name=attr.name).first():\n",
    "            continue\n",
    "        db_ses.add(attr)\n",
    "    db_ses.flush()\n",
    "\n",
    "    for attrv in attribute_values:\n",
    "        if db_ses.query(AttributeValue).filter_by(value=attrv.value).first():\n",
    "            continue\n",
    "        db_ses.add(attrv)\n",
    "    db_ses.flush()\n",
    "\n",
    "    for prod in db_ses.query(Product).all():\n",
    "        prod.category=product_category_map[prod.id]\n",
    "        # values = product_attribute_values_map[prod.id]\n",
    "        # value_instances = [attrb_v[i] for i in values]\n",
    "        # attributes_instances = [attr_value.attributes[0] for attr_value in value_instances]\n",
    "        \n",
    "        # prod.attributes.extend(attributes_instances)\n",
    "        # prod.attributes_values = value_instances\n",
    "\n",
    "    db_ses.commit()\n"
   ]
  },
  {
   "cell_type": "code",
   "execution_count": 4,
   "id": "89457502",
   "metadata": {},
   "outputs": [],
   "source": [
    "from app.data_manager.scoped_session import Session\n",
    "db_session = Session()\n",
    "\n",
    "prod = db_session.query(Product).filter_by(id=18).first()\n",
    "from app.seeds.products import get_image_url"
   ]
  },
  {
   "cell_type": "code",
   "execution_count": null,
   "id": "ee77745a",
   "metadata": {},
   "outputs": [
    {
     "data": {
      "text/plain": [
       "\"get_image_url('bluetooth_speaker', is_preview=False)\""
      ]
     },
     "execution_count": 8,
     "metadata": {},
     "output_type": "execute_result"
    }
   ],
   "source": []
  },
  {
   "cell_type": "code",
   "execution_count": 5,
   "id": "4d38fa74",
   "metadata": {},
   "outputs": [
    {
     "name": "stdout",
     "output_type": "stream",
     "text": [
      "6\n"
     ]
    },
    {
     "data": {
      "text/plain": [
       "(None,\n",
       " [{'id': 2,\n",
       "   'name': 'Smart Watch Pro',\n",
       "   'price': Decimal('199.99'),\n",
       "   'category': 'Electronics',\n",
       "   'image_src': 'https://res.cloudinary.com/dqmqwijyf/image/upload/c_pad,w_300,h_300/v1743681390/b470ZdEWk3d2kQWT.webp',\n",
       "   'attributes': {'Color': ['Black', 'White'], 'Capacity': ['64GB', '128GB']},\n",
       "   'attribute_values': [{'value': 'White',\n",
       "     'unit': None,\n",
       "     'attribute_types': ['Color']},\n",
       "    {'value': '128GB', 'unit': None, 'attribute_types': ['Capacity']}]},\n",
       "  {'id': 8,\n",
       "   'name': 'Organic Cotton Bed Sheets',\n",
       "   'price': Decimal('79.99'),\n",
       "   'category': 'Home & Kitchen',\n",
       "   'image_src': 'https://res.cloudinary.com/dqmqwijyf/image/upload/c_pad,w_300,h_300/v1743681390/b470ZdEWk3d2kQWT.webp',\n",
       "   'attributes': {'Color': ['Black', 'White'],\n",
       "    'Material': ['Cotton', 'Stainless Steel']},\n",
       "   'attribute_values': [{'value': 'White',\n",
       "     'unit': None,\n",
       "     'attribute_types': ['Color']},\n",
       "    {'value': 'Cotton', 'unit': None, 'attribute_types': ['Material']}]},\n",
       "  {'id': 9,\n",
       "   'name': 'Ceramic Dinnerware Set',\n",
       "   'price': Decimal('129.99'),\n",
       "   'category': 'Home & Kitchen',\n",
       "   'image_src': 'https://res.cloudinary.com/dqmqwijyf/image/upload/c_pad,w_300,h_300/v1743681390/b470ZdEWk3d2kQWT.webp',\n",
       "   'attributes': {'Color': ['Black', 'White'],\n",
       "    'Material': ['Cotton', 'Stainless Steel']},\n",
       "   'attribute_values': [{'value': 'White',\n",
       "     'unit': None,\n",
       "     'attribute_types': ['Color']},\n",
       "    {'value': 'Stainless Steel',\n",
       "     'unit': None,\n",
       "     'attribute_types': ['Material']}]},\n",
       "  {'id': 14,\n",
       "   'name': 'Smartphone X2',\n",
       "   'price': Decimal('676.20'),\n",
       "   'category': 'Electronics',\n",
       "   'image_src': \"get_image_url('smartphone_x2', is_preview=False)\",\n",
       "   'attributes': {'Color': ['Black', 'White'], 'Capacity': ['64GB', '128GB']},\n",
       "   'attribute_values': [{'value': 'White',\n",
       "     'unit': None,\n",
       "     'attribute_types': ['Color']},\n",
       "    {'value': '128GB', 'unit': None, 'attribute_types': ['Capacity']}]},\n",
       "  {'id': 16,\n",
       "   'name': '4K LED Television',\n",
       "   'price': Decimal('1593.89'),\n",
       "   'category': 'Electronics',\n",
       "   'image_src': \"get_image_url('4k_led_tv', is_preview=False)\",\n",
       "   'attributes': {'Color': ['Black', 'White']},\n",
       "   'attribute_values': [{'value': 'White',\n",
       "     'unit': None,\n",
       "     'attribute_types': ['Color']}]},\n",
       "  {'id': 18,\n",
       "   'name': 'Bluetooth Speaker',\n",
       "   'price': Decimal('1509.67'),\n",
       "   'category': 'Electronics',\n",
       "   'image_src': \"get_image_url('bluetooth_speaker', is_preview=False)\",\n",
       "   'attributes': {'Color': ['Black', 'White'], 'Capacity': ['64GB', '128GB']},\n",
       "   'attribute_values': [{'value': 'White',\n",
       "     'unit': None,\n",
       "     'attribute_types': ['Color']},\n",
       "    {'value': '128GB', 'unit': None, 'attribute_types': ['Capacity']}]}])"
      ]
     },
     "execution_count": 5,
     "metadata": {},
     "output_type": "execute_result"
    }
   ],
   "source": [
    "products =ProductQuery().filter_products({'Color':[\"White\"]})\n",
    "print(len(products)) ,products "
   ]
  },
  {
   "cell_type": "code",
   "execution_count": null,
   "id": "4aa8a1b3",
   "metadata": {},
   "outputs": [],
   "source": [
    "db_session.query(Attribute).filter(Attribute.name.ilike('color')).first()"
   ]
  },
  {
   "cell_type": "code",
   "execution_count": 7,
   "id": "9fd4147a",
   "metadata": {},
   "outputs": [
    {
     "data": {
      "text/plain": [
       "'Edition=First+Edition&Edition=Second+Edition'"
      ]
     },
     "execution_count": 7,
     "metadata": {},
     "output_type": "execute_result"
    }
   ],
   "source": [
    "from urllib.parse import urlparse\n",
    "f = urlparse(\"http://localhost:5500/products?Edition=First+Edition&Edition=Second+Edition\")\n",
    "f.query"
   ]
  },
  {
   "cell_type": "code",
   "execution_count": 18,
   "id": "473971f8",
   "metadata": {},
   "outputs": [
    {
     "name": "stdout",
     "output_type": "stream",
     "text": [
      "[<Attribute(id=1, name='Color', data_type='string')>, <Attribute(id=2, name='Size', data_type='string')>]\n",
      "[]\n"
     ]
    },
    {
     "data": {
      "text/plain": [
       "<sqlalchemy.orm.query.Query at 0x7f95b42c2180>"
      ]
     },
     "execution_count": 18,
     "metadata": {},
     "output_type": "execute_result"
    }
   ],
   "source": [
    "attr = db_session.query(Attribute)\n",
    "a  = attr.limit(2).all()\n",
    "b= attr.offset(20).limit(2).all()\n",
    "print(a)\n",
    "print(b)\n",
    "\n",
    "\n",
    "attr"
   ]
  },
  {
   "cell_type": "code",
   "execution_count": 44,
   "id": "5fcb3315",
   "metadata": {},
   "outputs": [
    {
     "name": "stdout",
     "output_type": "stream",
     "text": [
      "link is : https://res.cloudinary.com/dqmqwijyf/image/upload/c_pad,w_300,h_300/v1743681390/b470ZdEWk3d2kQWT.webp\n",
      "link is : https://res.cloudinary.com/dqmqwijyf/image/upload/c_pad,w_300,h_300/v1743681390/b470ZdEWk3d2kQWT.webp\n",
      "link is : https://res.cloudinary.com/dqmqwijyf/image/upload/c_pad,w_300,h_300/v1743681390/b470ZdEWk3d2kQWT.webp\n",
      "link is : https://res.cloudinary.com/dqmqwijyf/image/upload/c_pad,w_300,h_300/v1743681390/b470ZdEWk3d2kQWT.webp\n",
      "link is : https://res.cloudinary.com/dqmqwijyf/image/upload/c_pad,w_300,h_300/v1743681390/b470ZdEWk3d2kQWT.webp\n",
      "link is : https://res.cloudinary.com/dqmqwijyf/image/upload/c_pad,w_300,h_300/v1743681390/b470ZdEWk3d2kQWT.webp\n",
      "link is : https://res.cloudinary.com/dqmqwijyf/image/upload/c_pad,w_300,h_300/v1743681390/b470ZdEWk3d2kQWT.webp\n",
      "link is : https://res.cloudinary.com/dqmqwijyf/image/upload/c_pad,w_300,h_300/v1743681390/b470ZdEWk3d2kQWT.webp\n",
      "link is : https://res.cloudinary.com/dqmqwijyf/image/upload/c_pad,w_300,h_300/v1743681390/b470ZdEWk3d2kQWT.webp\n",
      "link is : https://res.cloudinary.com/dqmqwijyf/image/upload/c_pad,w_300,h_300/v1743681390/b470ZdEWk3d2kQWT.webp\n",
      "link is : https://res.cloudinary.com/dqmqwijyf/image/upload/c_pad,w_300,h_300/v1743681390/b470ZdEWk3d2kQWT.webp\n"
     ]
    }
   ],
   "source": [
    "\n",
    "code= \"\"\"\n",
    "link ={}\n",
    "print('link is :',link)\n",
    "prod.image_url = link \n",
    "session.commit()\n",
    "\"\"\"\n",
    "with ProductQuery()._get_session() as db_session:\n",
    "    for prod in db_session.query(Product).all():\n",
    "        if prod.image_url and 'http' in prod.image_url:\n",
    "            continue\n",
    "\n",
    "        params = {\"get_image_url\":get_image_url ,\"prod\":prod ,'session':db_session}\n",
    "        if not prod.image_url:\n",
    "            image_code = \"get_image_url('digital_camera_pro', is_preview=False)\"\n",
    "        else:\n",
    "            image_code = prod.image_url\n",
    "        code = code.format(image_code)\n",
    "        url = exec(code ,{},params)\n",
    "\n",
    "\n"
   ]
  },
  {
   "cell_type": "code",
   "execution_count": null,
   "id": "98a14c04",
   "metadata": {},
   "outputs": [],
   "source": []
  },
  {
   "cell_type": "code",
   "execution_count": 14,
   "id": "46edc470",
   "metadata": {},
   "outputs": [
    {
     "data": {
      "text/plain": [
       "'https://res.cloudinary.com/dqmqwijyf/image/upload/c_pad,w_300,h_300/v1743681390/b470ZdEWk3d2kQWT.webp'"
      ]
     },
     "execution_count": 14,
     "metadata": {},
     "output_type": "execute_result"
    }
   ],
   "source": [
    "get_image_url('bluetooth_speaker', is_preview=False)"
   ]
  },
  {
   "cell_type": "code",
   "execution_count": null,
   "id": "73d9c37a",
   "metadata": {},
   "outputs": [],
   "source": []
  }
 ],
 "metadata": {
  "kernelspec": {
   "display_name": ".venv",
   "language": "python",
   "name": "python3"
  },
  "language_info": {
   "codemirror_mode": {
    "name": "ipython",
    "version": 3
   },
   "file_extension": ".py",
   "mimetype": "text/x-python",
   "name": "python",
   "nbconvert_exporter": "python",
   "pygments_lexer": "ipython3",
   "version": "3.12.3"
  }
 },
 "nbformat": 4,
 "nbformat_minor": 5
}
