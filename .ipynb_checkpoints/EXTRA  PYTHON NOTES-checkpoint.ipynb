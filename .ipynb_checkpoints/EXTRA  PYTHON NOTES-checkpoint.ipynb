{
 "cells": [
  {
   "cell_type": "markdown",
   "id": "4f59f840-f789-48c0-9349-702d72f9c6db",
   "metadata": {},
   "source": [
    "## 1. PYTHON the @propery class/funcion\n",
    "```python \n",
    "@property \n",
    "property([fget=None, fset=None, fdel=None, doc=None])\n",
    "```\n",
    "- `fget` - Funcoin object that dictates how the attribute is retrieved\n",
    "- `fset` - Funcion object that allows one to set the managed value\n",
    "- `fdel` - Funcion that manages the deletion of managed attribure\n",
    "- `dec`- - String object containing the methods documentation\n",
    "\n",
    "- Trying to retrieve the objects value using `obj.attribute` will autimatically call the `fget` funcion. The rule applies for tring to set the\n",
    "  object value using `obj.attribute = value` but in this case it will call the `fset` function. All the aurguments to property are optional but the you need to aleast provide the getattr funciton. The `propery()` can be used as a function or as a decorator.\n",
    "  "
   ]
  },
  {
   "cell_type": "markdown",
   "id": "61be82d6-d35e-4c0c-b6ef-ddadecb1158b",
   "metadata": {},
   "source": [
    "### 1.1 Using `property()` as  a funcion\n",
    " - I will use the fernet module to encrypt some user details and  decrypt them using fernet. The best way to do this is to use hashing to store sensitive data but for learning purposes we will use fernet."
   ]
  },
  {
   "cell_type": "code",
   "execution_count": 2,
   "id": "de1d8106-0032-4fed-8e3d-626cffbd1f0c",
   "metadata": {},
   "outputs": [
    {
     "name": "stdout",
     "output_type": "stream",
     "text": [
      "Requirement already satisfied: fernet in ./.venv/lib/python3.12/site-packages (1.0.1)\n",
      "Requirement already satisfied: pyaes in ./.venv/lib/python3.12/site-packages (from fernet) (1.6.1)\n"
     ]
    }
   ],
   "source": [
    "! pip install fernet "
   ]
  },
  {
   "cell_type": "code",
   "execution_count": 3,
   "id": "5bd57069-d4a1-40bf-ab41-7f2f3ffdc15d",
   "metadata": {},
   "outputs": [
    {
     "ename": "ModuleNotFoundError",
     "evalue": "No module named 'cryptography'",
     "output_type": "error",
     "traceback": [
      "\u001b[31m---------------------------------------------------------------------------\u001b[39m",
      "\u001b[31mModuleNotFoundError\u001b[39m                       Traceback (most recent call last)",
      "\u001b[36mCell\u001b[39m\u001b[36m \u001b[39m\u001b[32mIn[3]\u001b[39m\u001b[32m, line 3\u001b[39m\n\u001b[32m      1\u001b[39m \u001b[38;5;28;01mimport\u001b[39;00m\u001b[38;5;250m \u001b[39m\u001b[34;01muuid\u001b[39;00m\n\u001b[32m----> \u001b[39m\u001b[32m3\u001b[39m \u001b[38;5;28;01mfrom\u001b[39;00m\u001b[38;5;250m \u001b[39m\u001b[34;01mcryptography\u001b[39;00m\u001b[34;01m.\u001b[39;00m\u001b[34;01mfernet\u001b[39;00m\u001b[38;5;250m \u001b[39m\u001b[38;5;28;01mimport\u001b[39;00m Fernet\n",
      "\u001b[31mModuleNotFoundError\u001b[39m: No module named 'cryptography'"
     ]
    }
   ],
   "source": [
    "import uuid\n",
    "\n",
    "from cryptography.fernet import Fernet"
   ]
  },
  {
   "cell_type": "code",
   "execution_count": null,
   "id": "9b7a22b2-2640-4e91-981e-893e16bddc10",
   "metadata": {},
   "outputs": [],
   "source": [
    "class user:\n",
    "    def __init__(user_name , password , age):"
   ]
  }
 ],
 "metadata": {
  "kernelspec": {
   "display_name": "Python 3 (ipykernel)",
   "language": "python",
   "name": "python3"
  },
  "language_info": {
   "codemirror_mode": {
    "name": "ipython",
    "version": 3
   },
   "file_extension": ".py",
   "mimetype": "text/x-python",
   "name": "python",
   "nbconvert_exporter": "python",
   "pygments_lexer": "ipython3",
   "version": "3.12.3"
  }
 },
 "nbformat": 4,
 "nbformat_minor": 5
}
